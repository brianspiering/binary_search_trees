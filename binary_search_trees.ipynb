{
 "cells": [
  {
   "cell_type": "markdown",
   "id": "46f3e744",
   "metadata": {
    "toc": true
   },
   "source": [
    "<h1>Table of Contents<span class=\"tocSkip\"></span></h1>\n",
    "<div class=\"toc\"><ul class=\"toc-item\"><li><span><a href=\"#Binary-Search-Tree-(BST)\" data-toc-modified-id=\"Binary-Search-Tree-(BST)-1\">Binary Search Tree (BST)</a></span></li><li><span><a href=\"#Motivating-Story\" data-toc-modified-id=\"Motivating-Story-2\">Motivating Story</a></span></li><li><span><a href=\"#Learning-Outcomes\" data-toc-modified-id=\"Learning-Outcomes-3\">Learning Outcomes</a></span></li><li><span><a href=\"#Binary-Trees:-A-quick-review\" data-toc-modified-id=\"Binary-Trees:-A-quick-review-4\">Binary Trees: A quick review</a></span></li><li><span><a href=\"#From-Binary-Trees-to-Binary-Search-Tree-(BST)\" data-toc-modified-id=\"From-Binary-Trees-to-Binary-Search-Tree-(BST)-5\">From Binary Trees to Binary Search Tree (BST)</a></span></li><li><span><a href=\"#Insert-items-to-BST\" data-toc-modified-id=\"Insert-items-to-BST-6\">Insert items to BST</a></span></li><li><span><a href=\"#Any-questions?\" data-toc-modified-id=\"Any-questions?-7\">Any questions?</a></span></li><li><span><a href=\"#Check-for-understanding\" data-toc-modified-id=\"Check-for-understanding-8\">Check for understanding</a></span></li><li><span><a href=\"#Search-for-an-item-in-BST\" data-toc-modified-id=\"Search-for-an-item-in-BST-9\">Search for an item in BST</a></span></li><li><span><a href=\"#Self-balancing-binary-trees\" data-toc-modified-id=\"Self-balancing-binary-trees-10\">Self-balancing binary trees</a></span></li><li><span><a href=\"#Looking-for-nonexisting-item-in-BST\" data-toc-modified-id=\"Looking-for-nonexisting-item-in-BST-11\">Looking for nonexisting item in BST</a></span></li><li><span><a href=\"#Check-for-understanding\" data-toc-modified-id=\"Check-for-understanding-12\">Check for understanding</a></span></li><li><span><a href=\"#Remove-items-from-a-BST\" data-toc-modified-id=\"Remove-items-from-a-BST-13\">Remove items from a BST</a></span></li><li><span><a href=\"#Check-for-understanding\" data-toc-modified-id=\"Check-for-understanding-14\">Check for understanding</a></span></li><li><span><a href=\"#Student-Activity\" data-toc-modified-id=\"Student-Activity-15\">Student Activity</a></span></li><li><span><a href=\"#Real-World-Applications-of-BST\" data-toc-modified-id=\"Real-World-Applications-of-BST-16\">Real World Applications of BST</a></span></li><li><span><a href=\"#Takeaways\" data-toc-modified-id=\"Takeaways-17\">Takeaways</a></span></li><li><span><a href=\"#Bonus-Material\" data-toc-modified-id=\"Bonus-Material-18\">Bonus Material</a></span></li><li><span><a href=\"#What-about-adding-duplicate-values-to-BST?\" data-toc-modified-id=\"What-about-adding-duplicate-values-to-BST?-19\">What about adding duplicate values to BST?</a></span></li><li><span><a href=\"#Morse-code-is-a-BST\" data-toc-modified-id=\"Morse-code-is-a-BST-20\">Morse code is a BST</a></span></li><li><span><a href=\"#BST-compared-to-other-data-structures\" data-toc-modified-id=\"BST-compared-to-other-data-structures-21\">BST compared to other data structures</a></span></li><li><span><a href=\"#Red-black-tree:-a-self-balancing-BST\" data-toc-modified-id=\"Red-black-tree:-a-self-balancing-BST-22\">Red-black tree: a self-balancing BST</a></span></li><li><span><a href=\"#Sources-of-Inspiration\" data-toc-modified-id=\"Sources-of-Inspiration-23\">Sources of Inspiration</a></span></li></ul></div>"
   ]
  },
  {
   "cell_type": "markdown",
   "id": "fbefcaf4",
   "metadata": {},
   "source": [
    "<center><h2>Binary Search Tree (BST)</h2></center>\n",
    "<br>\n",
    "<center><img src=\"images/tree_xkcd.png\" width=\"75%\"/></center>\n",
    "\n",
    "<center><a href=\"https://imgs.xkcd.com/comics/tree.png\">Image source</a></center>"
   ]
  },
  {
   "cell_type": "markdown",
   "id": "f0845c4a",
   "metadata": {},
   "source": [
    "<center><h2>Motivating Story</h2></center>\n",
    "<br>\n",
    "<center><img src=\"images/fruit_stand.jpeg\" width=\"75%\"/></center>\n",
    "<center><a href=\"https://fordhamobserver.com/wp-content/uploads/2020/10/Toned_FruitStand_Alyssa-Daughdrill_1-900x723.jpg\">Image source</a></center>\n",
    "\n",
    "You are hired by your aunt and uncle to help with their fruit stand over the summer. You are in-charge of their inventory. You have to be fast at finding the right fruit because people are driving-by quickly.\n",
    "\n",
    "Since you have been studying Computer Science, you think there could be a way to optimize the storage. You Google around find something called a Binary Search Tree - Take the classic binary tree and make it more efficient for finding stored items."
   ]
  },
  {
   "cell_type": "markdown",
   "id": "74991628",
   "metadata": {},
   "source": [
    "<center><h2>Learning Outcomes</h2></center>\n",
    "\n",
    "__By the end of this session, you should be able to__:\n",
    "\n",
    "- Describe a Binary Search Tree (BST) in your own words.\n",
    "\n",
    "- Insert, search, and remove items from a BST."
   ]
  },
  {
   "cell_type": "markdown",
   "id": "8d7e8b2d",
   "metadata": {},
   "source": [
    "<center><h2>Binary Trees: A quick review</h2></center>\n",
    "<br>\n",
    "<br>\n",
    "<center><img src=\"images/binary_tree_annonated.jpeg\" width=\"55%\"/></center>\n",
    "<center><a href=\"https://flylib.com/books/1/474/1/html/2/images/f10-02.jpg\">Image source</a></center>\n",
    "\n",
    "Trees are a special type of graphs, nodes and edges. Trees only connect in a single direction, no cycles.\n",
    "\n",
    "Computer Science trees are upside - roots on top and leaves on the bottom.\n",
    "\n",
    "Tree model parent and children relationships.\n",
    "\n",
    "Binary trees are common data structures in Computer Science because that it is how computer \"think\" - Left & Right, aka 0s & 1s. Binary trees have no more than two children for a give parent."
   ]
  },
  {
   "cell_type": "markdown",
   "id": "d33eefbe",
   "metadata": {},
   "source": [
    "<center><h2>From Binary Trees to Binary Search Tree (BST)</h2></center>\n",
    "\n",
    "Binary Search Tree (BST) is a binary tree that has specific rules about the order of the values in the nodes.\n",
    "\n",
    "The two rules:\n",
    "1. The left child is always less than parent.\n",
    "2. The right child is always more than parent.\n",
    "\n",
    "These rules constrain how we can add items to a BST. In turn, it makes searching much faster because we always know what path to follow to find an item."
   ]
  },
  {
   "cell_type": "markdown",
   "id": "dd055979",
   "metadata": {},
   "source": [
    "<center><h2>Insert items to BST</h2></center>\n",
    "\n",
    "Let's build a Binary Search Tree by adding items.\n",
    "\n",
    "Our fruit stand has the following fruit:\n",
    "- apples \n",
    "- bananas\n",
    "- coconuts\n",
    "- acai (aa·saa·ee)\n",
    "- blueberries\n",
    "- Ask students for fruit suggestions in chat\n",
    "\n",
    "<br>\n",
    "<center><img src=\"images/bst_fruit.png\" width=\"75%\"/></center>\n",
    "\n",
    "https://www.cs.usfca.edu/~galles/visualization/BST.html"
   ]
  },
  {
   "cell_type": "markdown",
   "id": "6b99243f",
   "metadata": {},
   "source": [
    "<center><h2>Any questions?</h2></center>"
   ]
  },
  {
   "cell_type": "markdown",
   "id": "95a30971",
   "metadata": {},
   "source": [
    "<center><h2>Check for understanding</h2></center>\n",
    "\n",
    "Are the following BSTs valid or not? If not valid, rewrite the BST to be be valid.  \n",
    "~2 minutes of think time. Then private message me in Zoom.\n",
    "\n",
    "__Prompts__:  \n",
    "Tree #1: \n",
    "```\n",
    "    5\n",
    "   / \\\n",
    "  3   7\n",
    "```\n",
    "\n",
    "Is valid? \n",
    "\n",
    "----\n",
    "\n",
    "Tree #2: \n",
    "```\n",
    "    10\n",
    "   / \\\n",
    "  2   8\n",
    "```\n",
    "\n",
    "Is valid? \n",
    "\n",
    "----\n",
    "\n",
    "Tree #3: \n",
    "```\n",
    "    4\n",
    "   / \\\n",
    "  2   1\n",
    "```\n",
    "\n",
    "Is valid? \n",
    "\n",
    "----\n",
    "----\n",
    "\n",
    "__Solutions__:  \n",
    "Tree #1: \n",
    "```\n",
    "    5\n",
    "   / \\\n",
    "  3   7\n",
    "```\n",
    "\n",
    "Is valid? - Yes\n",
    "\n",
    "----\n",
    "\n",
    "Tree #2: \n",
    "```\n",
    "    10\n",
    "   / \\\n",
    "  2   8\n",
    "```\n",
    "\n",
    "Is valid? - No The root node's value is 10 but its right child's value is 8.\n",
    "\n",
    "Make valid:  \n",
    "```\n",
    "    8\n",
    "   / \\\n",
    "  2   10\n",
    "```\n",
    "\n",
    "----\n",
    "\n",
    "Tree #3: \n",
    "```\n",
    "    4\n",
    "   / \\\n",
    "  2   1\n",
    "```\n",
    "\n",
    "Is valid? - No - Both 2 and 1 are in the incorrect location.\n",
    "\n",
    "Make valid:\n",
    "```\n",
    "    4\n",
    "   /\n",
    "  1 \n",
    "   \\\n",
    "    2\n",
    "or\n",
    "1\n",
    " \\\n",
    "  2\n",
    "   \\\n",
    "    4\n",
    "or\n",
    "    2\n",
    "   / \\\n",
    "  1   4\n",
    "\n",
    "```\n",
    "\n",
    "Note - that the shape of the tree depends on the order in which items are inserted."
   ]
  },
  {
   "cell_type": "markdown",
   "id": "3521c75e",
   "metadata": {},
   "source": [
    "<center><h2>Search for an item in BST</h2></center>\n",
    "\n",
    "Let's look for \"blueberries\" in our fruit stand tree:\n",
    "\n",
    "<br>\n",
    "<center><img src=\"images/bst_fruit.png\" width=\"35%\"/></center>\n",
    "\n",
    "\"blueberries\" is 3 deep because we had to traverse 3 edges.\n",
    "\n",
    "\n",
    "Let's look for another item. Let's find \"4\" in Tree #3 from the activity.\n",
    "\n",
    "```\n",
    "1\n",
    " \\\n",
    "  2\n",
    "   \\\n",
    "    4\n",
    "```\n",
    "Linear search - Can be slow for deep trees.\n",
    "\n",
    "```\n",
    "    2\n",
    "   / \\\n",
    "  1   4\n",
    "\n",
    "```\n",
    "Binary search -  Typically must faster because we look through half the search space at each step."
   ]
  },
  {
   "cell_type": "markdown",
   "id": "94d9bf5b",
   "metadata": {},
   "source": [
    "<center><h2>Self-balancing binary trees</h2></center>\n",
    "\n",
    "Binary trees become most useful for searching when you balance them. \n",
    "\n",
    "This involves rotating sub-trees through their root node so that the height difference between any two sub-trees is less than or equal to 1. \n",
    "\n",
    "<br>\n",
    "<center><img src=\"images/balanced-vs-non-balanced-tree.jpeg\" width=\"75%\"/></center>\n",
    "<center><a href=\"https://adrianmejia.com/images/balanced-vs-non-balanced-tree.jpg\">Image source</a></center>\n"
   ]
  },
  {
   "cell_type": "markdown",
   "id": "db8ff293",
   "metadata": {},
   "source": [
    "<center><h2>Looking for nonexisting item in BST</h2></center>\n",
    "\n",
    "Let's search for \"acerola\" (West Indian cherry)…\n",
    "\n",
    "Let's search for \"date\"…\n",
    "\n",
    "<br>\n",
    "<center><img src=\"images/bst_fruit.png\" width=\"35%\"/></center>"
   ]
  },
  {
   "cell_type": "markdown",
   "id": "4f74c9ca",
   "metadata": {},
   "source": [
    "<center><h2>Check for understanding</h2></center>\n",
    "\n",
    "__Prompt__:  \n",
    "What is the most important difference between binary trees and BST?\n",
    "\n",
    "__Solution__:   \n",
    "BST has an order based on the 2 rules:\n",
    "1. The left child is always less than parent.\n",
    "2. The right child is always more than parent.\n",
    "\n",
    "BST nodes have values that allow for comparisons. Examples, include numbers and strings (convert to numbers via Unicode code points). A binary tree can store incomparable items. In a binary tree, one node could be a video clip and the next node could be a integer."
   ]
  },
  {
   "cell_type": "markdown",
   "id": "7b5cb059",
   "metadata": {},
   "source": [
    "<center><h2>Remove items from a BST</h2></center>\n",
    "\n",
    "__Cases__:\n",
    "\n",
    "1. No child - Remove \"blueberries\"…  \n",
    "2. One child - Remove \"coconuts\"…  \n",
    "3. Two children - Remove \"apples\"…  \n",
    "\n",
    "<br>\n",
    "<center><img src=\"images/bst_fruit.png\" width=\"40%\"/></center>\n",
    "\n",
    "Another example of two children:   \n",
    "A BST of [15, 20, 18, 16, 19, 25, 22, 30]\n",
    "\n",
    "<br>\n",
    "<center><img src=\"images/many_childern.png\" width=\"50%\"/></center>\n",
    "\n",
    "If we remove 20, 19 becomes the successor.\n",
    "\n",
    "General Steps:\n",
    "1. Find node\n",
    "2. Remove node\n",
    "3. Promote successor - Move largest value in left child subtree to removed node position."
   ]
  },
  {
   "cell_type": "markdown",
   "id": "0550ebad",
   "metadata": {},
   "source": [
    "<center><h2>Check for understanding</h2></center>\n",
    "\n",
    "__Prompt__:  \n",
    "What happens if we put 20 back into the BST?\n",
    "\n",
    "__Solution__:\n",
    "<br>\n",
    "<center><img src=\"images/20_back.png\" width=\"55%\"/></center>"
   ]
  },
  {
   "cell_type": "markdown",
   "id": "3bf8afd5",
   "metadata": {},
   "source": [
    "<center><h2>Student Activity</h2></center>\n",
    "\n",
    "Please get out a piece of paper and something to write with.\n",
    "\n",
    "__Prompts__:\n",
    "\n",
    "1. Construct a binary search tree for this list of numbers:\n",
    "[1, 2, 5, 3, 7, 0, 4, 42, 6]\n",
    "\n",
    "2. How many nodes do we have to traverse to find the following numbers?\n",
    "- \"0\"\n",
    "- \"42\"\n",
    "- \"3\"\n",
    "\n",
    "3. Now remove 5 from your BST tree.\n",
    "\n",
    "You have 5 minutes to work through the prompts. Then, I'll then ask for volunteers to share their results.\n",
    "\n",
    "Work through - https://www.cs.usfca.edu/~galles/visualization/BST.html\n",
    "\n",
    "__Solutions__\n",
    "\n",
    "1.\n",
    "<br>\n",
    "<center><img src=\"images/tree_activity.png\" width=\"75%\"/></center>\n",
    "2.\n",
    "\n",
    "- \"0\" has depth of 1\n",
    "- \"1\" has depth of 4\n",
    "- \"3\" has depth of 3\n",
    "\n",
    "3.\n",
    "<br>\n",
    "<center><img src=\"images/remove_5.png\" width=\"75%\"/></center>"
   ]
  },
  {
   "cell_type": "markdown",
   "id": "73a5ba53",
   "metadata": {},
   "source": [
    "<center><h2>Real World Applications of BST</h2></center>\n",
    "<br>\n",
    "\n",
    "- Almost every database uses a variation of BST. It is a fast way to find items.\n",
    "- Video games: \n",
    "    - Pathfinding (A* algorithm)\n",
    "    - Rendering calculations – Doom (1993) was famously the first game to use a BST\n",
    "- Basis of more complex data structures\n",
    "    - Self-balancing BST trees\n",
    "        - Red-black tree  \n",
    "    - Suffix trees & Tries\n",
    "    - Huffman encoding scheme for compression\n",
    "    - [Skip list](https://stackoverflow.com/questions/256511/skip-list-vs-binary-search-tree)\n",
    "    - [Many more …](https://stackoverflow.com/questions/2130416/what-are-the-applications-of-binary-trees/2200588#2200588)\n",
    "- Building compliers often parse syntax with a BST."
   ]
  },
  {
   "cell_type": "markdown",
   "id": "faf7e885",
   "metadata": {},
   "source": [
    "<center><h2>Takeaways</h2></center>\n",
    "\n",
    "- Binary Search Tree (BST) are a logical extension of binary trees that follow two rules:\n",
    "   1. The left child values must be less than the parent. \n",
    "   2. The right child values must be greater than the parent.\n",
    "- BST are often more efficient way to store items for later retrieval.\n",
    "- Removed items are replace with the largest value in the left child subtree."
   ]
  },
  {
   "cell_type": "markdown",
   "id": "a7a253aa",
   "metadata": {},
   "source": [
    "Materials are available - https://github.com/brianspiering/binary_search_trees"
   ]
  },
  {
   "cell_type": "markdown",
   "id": "2677940c",
   "metadata": {},
   "source": [
    "<center><h2>Bonus Material</h2></center>"
   ]
  },
  {
   "cell_type": "markdown",
   "id": "9ca6671f",
   "metadata": {},
   "source": [
    "<center><h2>What about adding duplicate values to BST?</h2></center>\n",
    "\n",
    "Add an exception way - Follow standard rules with an exception that all duplicates go to the right branch. \n",
    "\n",
    "A better way - Each node is a counter - keeps a tally of occurrences.\n"
   ]
  },
  {
   "cell_type": "markdown",
   "id": "6d16f119",
   "metadata": {},
   "source": [
    "<center><h2>Morse code is a BST</h2></center>\n",
    "\n",
    "<br>\n",
    "<center><img src=\"https://hurna.io/assets/images/data_structures/bst/morse_tree.png\" width=\"75%\"/></center>\n",
    "<br>\n",
    "<center><img src=\"https://hurna.io/assets/images/data_structures/bst/morse.png\" width=\"55%\"/></center>"
   ]
  },
  {
   "cell_type": "markdown",
   "id": "4c76a463",
   "metadata": {},
   "source": [
    "<center><h2>BST compared to other data structures</h2></center>\n",
    "\n",
    "Linked list - the tree can easily degenerate into its worst-case form, which is a linked list, since simple binary trees are not balanced.\n",
    "\n",
    "Hash Tables: \n",
    "\n",
    "<br>\n",
    "<center><img src=\"https://s3.ap-south-1.amazonaws.com/afteracademy-server-uploads/binary-search-tree-vs-hash-table-comparision-table-250f578c580d9781.jpg\" width=\"75%\"/></center>\n",
    "\n",
    "What is the difference between arrays and BST?\n",
    "    https://stackoverflow.com/questions/392397/why-do-we-use-arrays-instead-of-other-data-structures/392426#392426\n",
    "    BST can add and delete keys more efficently"
   ]
  },
  {
   "cell_type": "markdown",
   "id": "a9ba0728",
   "metadata": {},
   "source": [
    "<center><h2>Red-black tree: a self-balancing BST</h2></center>\n",
    "\n",
    "<br>\n",
    "<center><img src=\"images/Red-black trees.png\" width=\"75%\"/></center>"
   ]
  },
  {
   "cell_type": "markdown",
   "id": "cbf6f5b1",
   "metadata": {},
   "source": [
    "<center><h2>Sources of Inspiration</h2></center>\n",
    "\n",
    "- https://qvault.io/python/binary-search-tree-in-python/\n",
    "- https://en.wikipedia.org/wiki/Binary_search_tree\n",
    "- https://www.youtube.com/watch?v=0yj6_fFhdXY&ab_channel=edutechional\n",
    "- https://www.youtube.com/watch?v=lFq5mYUWEBk&ab_channel=codebasics\n",
    "- https://algs4.cs.princeton.edu/32bst/\n",
    "- https://www.cs.usfca.edu/~galles/visualization/BST.html\n",
    "- https://stackoverflow.com/questions/2130416/what-are-the-applications-of-binary-trees/2200588#2200588\n",
    "- https://stackoverflow.com/questions/27625241/big-o-complexity-in-binary-search-treebst"
   ]
  },
  {
   "cell_type": "markdown",
   "id": "832f9146",
   "metadata": {},
   "source": [
    "<br>\n",
    "<br> \n",
    "<br>\n",
    "\n",
    "----"
   ]
  }
 ],
 "metadata": {
  "kernelspec": {
   "display_name": "Python 3",
   "language": "python",
   "name": "python3"
  },
  "language_info": {
   "codemirror_mode": {
    "name": "ipython",
    "version": 3
   },
   "file_extension": ".py",
   "mimetype": "text/x-python",
   "name": "python",
   "nbconvert_exporter": "python",
   "pygments_lexer": "ipython3",
   "version": "3.8.10"
  },
  "toc": {
   "base_numbering": 1,
   "nav_menu": {},
   "number_sections": false,
   "sideBar": false,
   "skip_h1_title": false,
   "title_cell": "Table of Contents",
   "title_sidebar": "Contents",
   "toc_cell": true,
   "toc_position": {},
   "toc_section_display": true,
   "toc_window_display": false
  }
 },
 "nbformat": 4,
 "nbformat_minor": 5
}
